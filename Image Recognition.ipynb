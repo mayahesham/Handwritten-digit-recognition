{
  "nbformat": 4,
  "nbformat_minor": 0,
  "metadata": {
    "colab": {
      "provenance": []
    },
    "kernelspec": {
      "name": "python3",
      "display_name": "Python 3"
    },
    "language_info": {
      "name": "python"
    }
  },
  "cells": [
    {
      "cell_type": "markdown",
      "source": [
        "# Image Classification with CNN on MNIST\n",
        "\n",
        "Recognize handwritten digits in the MNIST dataset and evaluate the model's performance.\n",
        "\n",
        "## Data Description\n",
        "- MNIST dataset consisting of grayscale images of handwritten digits (0-9).\n",
        "\n",
        "## Model Overview\n",
        "- CNN architecture with convolutional and fully connected layers.\n",
        "\n",
        "## Training Procedure\n",
        "- Splitting data into training and testing sets.\n",
        "- Training the model on the training set and evaluating on the test set.\n",
        "\n",
        "Let's get started!\n"
      ],
      "metadata": {
        "id": "ZqLU6WE9MqCo"
      }
    },
    {
      "cell_type": "code",
      "source": [
        "!pip install torchmetrics\n"
      ],
      "metadata": {
        "colab": {
          "base_uri": "https://localhost:8080/"
        },
        "id": "kOI4ORDRMoQZ",
        "outputId": "1ebe88e1-4140-41c0-9ddc-997dd6adac36"
      },
      "execution_count": 14,
      "outputs": [
        {
          "output_type": "stream",
          "name": "stdout",
          "text": [
            "Requirement already satisfied: torchmetrics in /usr/local/lib/python3.10/dist-packages (1.3.1)\n",
            "Requirement already satisfied: numpy>1.20.0 in /usr/local/lib/python3.10/dist-packages (from torchmetrics) (1.25.2)\n",
            "Requirement already satisfied: packaging>17.1 in /usr/local/lib/python3.10/dist-packages (from torchmetrics) (23.2)\n",
            "Requirement already satisfied: torch>=1.10.0 in /usr/local/lib/python3.10/dist-packages (from torchmetrics) (2.1.0+cu121)\n",
            "Requirement already satisfied: lightning-utilities>=0.8.0 in /usr/local/lib/python3.10/dist-packages (from torchmetrics) (0.10.1)\n",
            "Requirement already satisfied: setuptools in /usr/local/lib/python3.10/dist-packages (from lightning-utilities>=0.8.0->torchmetrics) (67.7.2)\n",
            "Requirement already satisfied: typing-extensions in /usr/local/lib/python3.10/dist-packages (from lightning-utilities>=0.8.0->torchmetrics) (4.9.0)\n",
            "Requirement already satisfied: filelock in /usr/local/lib/python3.10/dist-packages (from torch>=1.10.0->torchmetrics) (3.13.1)\n",
            "Requirement already satisfied: sympy in /usr/local/lib/python3.10/dist-packages (from torch>=1.10.0->torchmetrics) (1.12)\n",
            "Requirement already satisfied: networkx in /usr/local/lib/python3.10/dist-packages (from torch>=1.10.0->torchmetrics) (3.2.1)\n",
            "Requirement already satisfied: jinja2 in /usr/local/lib/python3.10/dist-packages (from torch>=1.10.0->torchmetrics) (3.1.3)\n",
            "Requirement already satisfied: fsspec in /usr/local/lib/python3.10/dist-packages (from torch>=1.10.0->torchmetrics) (2023.6.0)\n",
            "Requirement already satisfied: triton==2.1.0 in /usr/local/lib/python3.10/dist-packages (from torch>=1.10.0->torchmetrics) (2.1.0)\n",
            "Requirement already satisfied: MarkupSafe>=2.0 in /usr/local/lib/python3.10/dist-packages (from jinja2->torch>=1.10.0->torchmetrics) (2.1.5)\n",
            "Requirement already satisfied: mpmath>=0.19 in /usr/local/lib/python3.10/dist-packages (from sympy->torch>=1.10.0->torchmetrics) (1.3.0)\n"
          ]
        }
      ]
    },
    {
      "cell_type": "code",
      "source": [
        "import torch\n",
        "import torch.nn as nn\n",
        "import torch.optim as optim\n",
        "from torch.utils.data import Dataset, DataLoader\n",
        "from torchmetrics import Accuracy, Precision, Recall\n",
        "from torchvision import datasets, transforms\n",
        "from torch.utils.data import DataLoader\n",
        "import matplotlib.pyplot as plt\n",
        "from sklearn.metrics import accuracy_score, precision_score, recall_score\n",
        "from sklearn.metrics import accuracy_score, precision_score, recall_score"
      ],
      "metadata": {
        "id": "1B3w45yQnUtr"
      },
      "execution_count": 15,
      "outputs": []
    },
    {
      "cell_type": "markdown",
      "source": [
        "\n",
        "\n",
        "*    converts images from the MNIST dataset into PyTorch tensors and then download  MNIST dataset.\n",
        "\n",
        "\n"
      ],
      "metadata": {
        "id": "Lh0dQ9zWEJ5n"
      }
    },
    {
      "cell_type": "code",
      "source": [
        "transform = transforms.Compose([transforms.ToTensor()])\n",
        "train_dataset = datasets.MNIST(root='./data', train=True, download=True, transform=transform)\n",
        "test_dataset = datasets.MNIST(root='./data', train=False, download=True, transform=transform)"
      ],
      "metadata": {
        "id": "miZmYF2BMlwQ"
      },
      "execution_count": 16,
      "outputs": []
    },
    {
      "cell_type": "markdown",
      "source": [
        "# Write some code to know the information about your data"
      ],
      "metadata": {
        "id": "WFZ4Sdg-G56X"
      }
    },
    {
      "cell_type": "code",
      "source": [
        "dataset_size = len(train_dataset)\n",
        "print(\"Size of the entire dataset:\", dataset_size)"
      ],
      "metadata": {
        "colab": {
          "base_uri": "https://localhost:8080/"
        },
        "id": "BflpkLXnNBvH",
        "outputId": "92b3c967-26bb-4ef2-86c0-d94dffa27c0f"
      },
      "execution_count": 17,
      "outputs": [
        {
          "output_type": "stream",
          "name": "stdout",
          "text": [
            "Size of the entire dataset: 60000\n"
          ]
        }
      ]
    },
    {
      "cell_type": "markdown",
      "source": [
        "*  the number above is number of images\n",
        "\n",
        "\n"
      ],
      "metadata": {
        "id": "Bbjh_TVnHHF8"
      }
    },
    {
      "cell_type": "code",
      "source": [
        "first_image = train_dataset[0][0].shape\n",
        "print(\"Shape of a single data point:\", first_image)"
      ],
      "metadata": {
        "colab": {
          "base_uri": "https://localhost:8080/"
        },
        "id": "Wut0KSptN_Ws",
        "outputId": "1f8f8307-6176-4357-bd05-30a5abe20f1a"
      },
      "execution_count": 18,
      "outputs": [
        {
          "output_type": "stream",
          "name": "stdout",
          "text": [
            "Shape of a single data point: torch.Size([1, 28, 28])\n"
          ]
        }
      ]
    },
    {
      "cell_type": "markdown",
      "source": [
        "\n",
        "\n",
        "*   The first dimension (1) represents the number of channels.\n",
        "*   The second dimension (28) corresponds to the height of the image.\n",
        "*   The third dimension (28) corresponds to the width of the image.:\n",
        "\n",
        "\n",
        "\n",
        "\n",
        "\n",
        "\n",
        "\n"
      ],
      "metadata": {
        "id": "cEA201pWHda2"
      }
    },
    {
      "cell_type": "markdown",
      "source": [
        "loaders efficiently load and provide batches of data during the training and testing phases of a neural network."
      ],
      "metadata": {
        "id": "6iJRoWAAJPib"
      }
    },
    {
      "cell_type": "code",
      "source": [
        "train_loader = DataLoader(dataset=train_dataset, batch_size=32, shuffle=True)\n",
        "test_loader =  DataLoader(dataset=test_dataset, batch_size=32, shuffle=False)"
      ],
      "metadata": {
        "id": "aYV5copkng6l"
      },
      "execution_count": 19,
      "outputs": []
    },
    {
      "cell_type": "code",
      "source": [
        "#show some of images from the data\n",
        "for images, labels in train_loader:\n",
        "    fig, axes = plt.subplots(1, 4, figsize=(15, 5))\n",
        "    for idx in range(4):\n",
        "        axes[idx].imshow(images[idx].squeeze().numpy(), cmap='gray')\n",
        "        axes[idx].axis('off')\n",
        "        axes[idx].set_title(f'Label: {labels[idx].item()}')\n",
        "    plt.show()\n",
        "    break"
      ],
      "metadata": {
        "colab": {
          "base_uri": "https://localhost:8080/",
          "height": 312
        },
        "id": "O7ZyRBjYN0Jz",
        "outputId": "a99bae81-27de-4a6a-d73b-eeb9446421ad"
      },
      "execution_count": 20,
      "outputs": [
        {
          "output_type": "display_data",
          "data": {
            "text/plain": [
              "<Figure size 1500x500 with 4 Axes>"
            ],
            "image/png": "[encoded data removed]"
          },
          "metadata": {}
        }
      ]
    },
    {
      "cell_type": "markdown",
      "source": [
        "# Defining the Convolutional Neural Network"
      ],
      "metadata": {
        "id": "ZJ1S1x-LJYOp"
      }
    },
    {
      "cell_type": "code",
      "source": [
        "class CNN(nn.Module):\n",
        "    def __init__(self, num_classes):\n",
        "        super(CNN, self).__init__()\n",
        "        self.feature_extractor = nn.Sequential(\n",
        "            nn.Conv2d(1, 32, kernel_size=3, padding=1),\n",
        "            nn.ELU(),\n",
        "            nn.MaxPool2d(kernel_size=2),\n",
        "            nn.Conv2d(32, 64, kernel_size=3, padding=1),\n",
        "            nn.ELU(),\n",
        "            nn.MaxPool2d(kernel_size=2),\n",
        "            nn.Flatten(),\n",
        "        )\n",
        "\n",
        "        self.classifier = nn.Linear(in_features=64 * 7 * 7, out_features=num_classes)\n",
        "\n",
        "    def forward(self, x):\n",
        "        x = self.feature_extractor(x)\n",
        "        x = self.classifier(x)\n",
        "        return x\n",
        "\n",
        "\n",
        "num_classes = 10\n",
        "your_cnn = CNN(num_classes)\n",
        "\n",
        "print(your_cnn)\n"
      ],
      "metadata": {
        "colab": {
          "base_uri": "https://localhost:8080/"
        },
        "id": "l5S9EzxdXoWF",
        "outputId": "c70ee978-7517-4b99-cfa3-1aefa68c6125"
      },
      "execution_count": 21,
      "outputs": [
        {
          "output_type": "stream",
          "name": "stdout",
          "text": [
            "CNN(\n",
            "  (feature_extractor): Sequential(\n",
            "    (0): Conv2d(1, 32, kernel_size=(3, 3), stride=(1, 1), padding=(1, 1))\n",
            "    (1): ELU(alpha=1.0)\n",
            "    (2): MaxPool2d(kernel_size=2, stride=2, padding=0, dilation=1, ceil_mode=False)\n",
            "    (3): Conv2d(32, 64, kernel_size=(3, 3), stride=(1, 1), padding=(1, 1))\n",
            "    (4): ELU(alpha=1.0)\n",
            "    (5): MaxPool2d(kernel_size=2, stride=2, padding=0, dilation=1, ceil_mode=False)\n",
            "    (6): Flatten(start_dim=1, end_dim=-1)\n",
            "  )\n",
            "  (classifier): Linear(in_features=3136, out_features=10, bias=True)\n",
            ")\n"
          ]
        }
      ]
    },
    {
      "cell_type": "markdown",
      "source": [
        "# Training the CNN"
      ],
      "metadata": {
        "id": "bTXEDYxWK274"
      }
    },
    {
      "cell_type": "code",
      "source": [
        "def train_model(optimizer, net, num_epochs):\n",
        "    num_processed = 0\n",
        "    criterion = nn.CrossEntropyLoss()\n",
        "    for epoch in range(num_epochs):\n",
        "        running_loss = 0\n",
        "        num_processed = 0\n",
        "        for features, labels in train_loader:\n",
        "            optimizer.zero_grad()\n",
        "            outputs = net(features)\n",
        "            loss = criterion(outputs, labels)\n",
        "            loss.backward()\n",
        "            optimizer.step()\n",
        "            running_loss += loss.item()\n",
        "            num_processed += len(labels)\n",
        "        print(f'epoch {epoch}, loss: {running_loss / num_processed}')\n",
        "\n",
        "    train_loss = running_loss / len(train_loader)\n",
        "\n",
        "net = CNN(num_classes)\n",
        "optimizer = optim.Adam(net.parameters(), lr=0.001)\n",
        "\n",
        "train_model(\n",
        "    optimizer=optimizer,\n",
        "    net=net,\n",
        "    num_epochs=5,\n",
        ")\n"
      ],
      "metadata": {
        "colab": {
          "base_uri": "https://localhost:8080/"
        },
        "id": "p0lLtOtZa_H4",
        "outputId": "60ebf88a-cb41-4948-b640-8fc9d5a83b9c"
      },
      "execution_count": 24,
      "outputs": [
        {
          "output_type": "stream",
          "name": "stdout",
          "text": [
            "epoch 0, loss: 0.004503149253389954\n",
            "epoch 1, loss: 0.0016686253464989326\n",
            "epoch 2, loss: 0.0012737755285884\n",
            "epoch 3, loss: 0.001037742068260862\n",
            "epoch 4, loss: 0.0008250852113877954\n"
          ]
        }
      ]
    },
    {
      "cell_type": "markdown",
      "source": [
        "# Testing the CNN"
      ],
      "metadata": {
        "id": "sX4Xwp96LBC6"
      }
    },
    {
      "cell_type": "code",
      "source": [
        "net.eval()\n",
        "predicted = []\n",
        "true_labels = []\n",
        "\n",
        "for i, (features, label) in enumerate(test_dataset):\n",
        "    output = net.forward(features.reshape(-1, 1, 28, 28))\n",
        "    cat = torch.argmax(output, dim=-1)\n",
        "    predicted.append(cat.item())\n",
        "    true_labels.append(label)\n",
        "\n",
        "accuracy = accuracy_score(true_labels, predicted)\n",
        "precision = precision_score(true_labels, predicted, average=None)\n",
        "recall = recall_score(true_labels, predicted, average=None)\n",
        "\n",
        "print('Accuracy: {:.2%}'.format(accuracy))\n",
        "print('Precision (per class):', precision)\n",
        "print('Recall (per class):', recall)\n",
        "\n"
      ],
      "metadata": {
        "colab": {
          "base_uri": "https://localhost:8080/"
        },
        "id": "5JOKV6I7cQ7E",
        "outputId": "f5f119e3-8591-4f46-c533-25b0aeb92353"
      },
      "execution_count": 23,
      "outputs": [
        {
          "output_type": "stream",
          "name": "stdout",
          "text": [
            "Accuracy: 98.27%\n",
            "Precision (per class): [0.98274112 0.9955157  0.98346304 0.98422091 0.99179487 0.97888889\n",
            " 0.99055614 0.99007937 0.95427435 0.97440945]\n",
            "Recall (per class): [0.9877551  0.97797357 0.97965116 0.98811881 0.98472505 0.98766816\n",
            " 0.98538622 0.97081712 0.98562628 0.98116947]\n"
          ]
        }
      ]
    },
    {
      "cell_type": "markdown",
      "source": [
        "## Conclusion\n",
        "\n",
        "In this notebook, we implemented and trained a convolutional neural network (CNN) on the MNIST dataset. The model achieved an impressive accuracy of 98.27% on the test set. The precision and recall scores per class demonstrate the model's effectiveness in recognizing various digits\n",
        "\n",
        "Thank you for following along!"
      ],
      "metadata": {
        "id": "890O_nxqLY_7"
      }
    },
    {
      "cell_type": "markdown",
      "source": [],
      "metadata": {
        "id": "Re7lTeJNLFF1"
      }
    }
  ]
}